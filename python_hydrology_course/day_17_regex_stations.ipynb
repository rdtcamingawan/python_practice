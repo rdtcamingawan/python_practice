{
 "cells": [
  {
   "cell_type": "code",
   "execution_count": 3,
   "id": "79b0a543",
   "metadata": {},
   "outputs": [],
   "source": [
    "import re\n",
    "dataset = [\n",
    "    # Valid Cases\n",
    "    \"STA 0+100\",\n",
    "    \"STA 3+345.10\",\n",
    "    \"STA 10+500\",\n",
    "    \"STA 1+005\",\n",
    "    \"STA 15+250.75\",\n",
    "    \"STA 99+999\",\n",
    "    \"STA 0+000\",\n",
    "    \"STA 7+050.2\",\n",
    "    \"STA 100+100\",\n",
    "    \"STA 5+5\",\n",
    "\n",
    "    # Invalid or Edge Cases\n",
    "    \"STA +100\",\n",
    "    \"STA 5+\",\n",
    "    \"STA++100\",\n",
    "    \"STA 3 + 345\",\n",
    "    \"STA3+345\",\n",
    "    \"STATION 5+200\",\n",
    "    \"Sta 1+100\",\n",
    "    \"sta 10+500\",\n",
    "    \"STA 1+2+3\",\n",
    "    \"STA A+100\",\n",
    "    \"STA 10+B\",\n",
    "    \"STA 01+005\",\n",
    "    \"STA 5.5+100\",\n",
    "    \"STA 5+100.2.3\",\n",
    "    \"STA: 3+450\"\n",
    "]"
   ]
  },
  {
   "cell_type": "code",
   "execution_count": 20,
   "id": "68846597",
   "metadata": {},
   "outputs": [
    {
     "name": "stdout",
     "output_type": "stream",
     "text": [
      "Station name: STA 0+100\n",
      "0100\n",
      "Station name: STA 3+345.10\n",
      "3345.10\n",
      "Station name: STA 10+500\n",
      "10500\n",
      "Station name: STA 1+005\n",
      "1005\n",
      "Station name: STA 15+250.75\n",
      "15250.75\n",
      "Station name: STA 99+999\n",
      "99999\n",
      "Station name: STA 0+000\n",
      "0000\n",
      "Station name: STA 7+050.2\n",
      "7050.2\n",
      "Station name: STA 100+100\n",
      "100100\n",
      "Station name: STA 5+5\n",
      "55\n",
      "Station name: STA +100\n",
      "Station name: STA 5+\n",
      "Station name: STA++100\n",
      "Station name: STA 3 + 345\n",
      "Station name: STA3+345\n",
      "3345\n",
      "Station name: STATION 5+200\n",
      "5200\n",
      "Station name: Sta 1+100\n",
      "1100\n",
      "Station name: sta 10+500\n",
      "10500\n",
      "Station name: STA 1+2+3\n",
      "12\n",
      "Station name: STA A+100\n",
      "Station name: STA 10+B\n",
      "Station name: STA 01+005\n",
      "01005\n",
      "Station name: STA 5.5+100\n",
      "5100\n",
      "Station name: STA 5+100.2.3\n",
      "5100.2\n",
      "Station name: STA: 3+450\n",
      "3450\n"
     ]
    }
   ],
   "source": [
    "sample_string = dataset[0]\n",
    "pattern = r\"(\\d+)\\+(\\d+(?:\\.\\d+)?)\"\n",
    "p = re.findall(pattern,sample_string)[0]\n",
    "s = p[0]+p[1]\n",
    "\n",
    "for station in dataset:\n",
    "    print(f'Station name: {station}')\n",
    "    try:\n",
    "        p = re.findall(pattern, station)[0]\n",
    "        print(p[0]+p[1])\n",
    "    except:\n",
    "        continue\n",
    "\n",
    "\n"
   ]
  }
 ],
 "metadata": {
  "kernelspec": {
   "display_name": "hh2_env",
   "language": "python",
   "name": "python3"
  },
  "language_info": {
   "codemirror_mode": {
    "name": "ipython",
    "version": 3
   },
   "file_extension": ".py",
   "mimetype": "text/x-python",
   "name": "python",
   "nbconvert_exporter": "python",
   "pygments_lexer": "ipython3",
   "version": "3.12.9"
  }
 },
 "nbformat": 4,
 "nbformat_minor": 5
}
